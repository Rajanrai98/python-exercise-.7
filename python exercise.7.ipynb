{
 "cells": [
  {
   "cell_type": "code",
   "execution_count": null,
   "id": "9e1e6aca",
   "metadata": {},
   "outputs": [],
   "source": [
    "import pandas as pd"
   ]
  },
  {
   "cell_type": "code",
   "execution_count": null,
   "id": "ad24c788",
   "metadata": {},
   "outputs": [],
   "source": [
    "data = pd.DataFrame({\"x\":range(1,101) , \"y\":[x**2 for x in range(1,101)]})"
   ]
  },
  {
   "cell_type": "code",
   "execution_count": null,
   "id": "d780744f",
   "metadata": {},
   "outputs": [],
   "source": [
    "print(data)"
   ]
  },
  {
   "cell_type": "code",
   "execution_count": null,
   "id": "13348a5f",
   "metadata": {},
   "outputs": [],
   "source": [
    "num = int(input(\"enter the numbers:\"))\n",
    "if num>1:\n",
    "    for i in range(2,num):\n",
    "        if num%i==0:\n",
    "            print(\"this is not a prime number:\")\n",
    "            break\n",
    "    else:\n",
    "        print(\"this is a prime number\")\n",
    "    "
   ]
  },
  {
   "cell_type": "code",
   "execution_count": null,
   "id": "d6d4af6b",
   "metadata": {},
   "outputs": [],
   "source": [
    "lower = int(input(\"enter the lower range:\"))\n",
    "upper = int(input(\"enter the upper range:\"))\n",
    "for num in range(lower , upper):\n",
    "    if num>1:\n",
    "        for i in range(2,num):\n",
    "            if num%i==0:\n",
    "                break\n",
    "        else:\n",
    "            print(num)"
   ]
  },
  {
   "cell_type": "code",
   "execution_count": null,
   "id": "4c8f9267",
   "metadata": {},
   "outputs": [],
   "source": [
    "number = 1\n",
    "count = 0\n",
    "while count<=25:\n",
    "    if number%2!=0:\n",
    "        print(number)\n",
    "        count+=1\n",
    "    number+=1"
   ]
  },
  {
   "cell_type": "code",
   "execution_count": null,
   "id": "87863c2c",
   "metadata": {},
   "outputs": [],
   "source": [
    "lst1 = [\"a\",\"b\",\"c\",\"d\",\"a\",\"b\",\"c\",\"d\",\"e\",\"s\",\"a\",\"e\",\"d\",\"a\"]\n",
    "character = \"a\"\n",
    "count = 0\n",
    "for letter in lst1:\n",
    "    if character==letter:\n",
    "        count+=1\n",
    "print(count)"
   ]
  },
  {
   "cell_type": "code",
   "execution_count": null,
   "id": "a0c86198",
   "metadata": {},
   "outputs": [],
   "source": [
    "def remove_duplicates(lst):\n",
    "    return list(dict.fromkeys(lst))"
   ]
  },
  {
   "cell_type": "code",
   "execution_count": null,
   "id": "50d1642e",
   "metadata": {},
   "outputs": [],
   "source": [
    "remove_duplicates(lst1)"
   ]
  },
  {
   "cell_type": "code",
   "execution_count": null,
   "id": "3c976bba",
   "metadata": {},
   "outputs": [],
   "source": [
    "vowels = [\"a\",\"i\",\"o\",\"u\",\"e\"]\n",
    "words = \"programming\"\n",
    "count = 0\n",
    "for letter in words:\n",
    "    if letter in vowels:\n",
    "        count+=1\n",
    "print(count)"
   ]
  },
  {
   "cell_type": "code",
   "execution_count": null,
   "id": "a61e574a",
   "metadata": {},
   "outputs": [],
   "source": [
    "vowels = [\"a\",\"i\",\"o\",\"u\",\"e\"]\n",
    "words = \"bharat is a great hindu rastra\"\n",
    "count = 0\n",
    "for letter in words:\n",
    "    if letter in vowels:\n",
    "        count+=1\n",
    "print(count)"
   ]
  },
  {
   "cell_type": "code",
   "execution_count": null,
   "id": "3469aaf3",
   "metadata": {},
   "outputs": [],
   "source": [
    "num = int(input(\"enter the number:\"))\n",
    "sum = 0\n",
    "temp = num\n",
    "while temp>0:\n",
    "    digit = temp%10\n",
    "    cubic = digit**3\n",
    "    sum = sum+cubic\n",
    "    temp//10\n",
    "    if sum==num:\n",
    "        print(\"this is a armstrong number:\")\n",
    "        break\n",
    "else:\n",
    "    print(\"this is not a armstrong number:\")"
   ]
  },
  {
   "cell_type": "code",
   "execution_count": 3,
   "id": "392a7acb",
   "metadata": {},
   "outputs": [
    {
     "name": "stdout",
     "output_type": "stream",
     "text": [
      "enter the numbers:5463\n",
      "rev_number: 3645\n",
      "original_number: 54\n"
     ]
    }
   ],
   "source": [
    "num = int(input(\"enter the numbers:\"))\n",
    "a = num%10\n",
    "num = num//10\n",
    "b = num%10\n",
    "num = num//10\n",
    "c = num%10\n",
    "d = num//10\n",
    "rev = a*1000+b*100+c*10+d\n",
    "print(\"rev_number:\",rev)\n",
    "print(\"original_number:\",num)"
   ]
  },
  {
   "cell_type": "code",
   "execution_count": 4,
   "id": "4e34e67a",
   "metadata": {},
   "outputs": [
    {
     "data": {
      "text/plain": [
       "str"
      ]
     },
     "execution_count": 4,
     "metadata": {},
     "output_type": "execute_result"
    }
   ],
   "source": [
    "a = \"45\"\n",
    "type(a)"
   ]
  },
  {
   "cell_type": "code",
   "execution_count": 5,
   "id": "aa23e80d",
   "metadata": {},
   "outputs": [
    {
     "data": {
      "text/plain": [
       "int"
      ]
     },
     "execution_count": 5,
     "metadata": {},
     "output_type": "execute_result"
    }
   ],
   "source": [
    "a = int(a)\n",
    "type(a)"
   ]
  },
  {
   "cell_type": "code",
   "execution_count": null,
   "id": "70563a77",
   "metadata": {},
   "outputs": [],
   "source": []
  },
  {
   "cell_type": "code",
   "execution_count": 9,
   "id": "a88e6dee",
   "metadata": {},
   "outputs": [],
   "source": [
    "def common_items(lst1,lst2):\n",
    "    common_items = []\n",
    "    for items in lst1:\n",
    "        if items in lst2:\n",
    "            common_items.append(items)\n",
    "    return common_items"
   ]
  },
  {
   "cell_type": "code",
   "execution_count": 10,
   "id": "a6508243",
   "metadata": {},
   "outputs": [
    {
     "data": {
      "text/plain": [
       "(13, 13)"
      ]
     },
     "execution_count": 10,
     "metadata": {},
     "output_type": "execute_result"
    }
   ],
   "source": [
    "lst1 = [2,3,4,5,3,2,4,5,6,7,8,7,525]\n",
    "lst2 = [2,3,4,2,1,4,5,6,77,5,4,33,2]\n",
    "len(lst1) , len(lst2)"
   ]
  },
  {
   "cell_type": "code",
   "execution_count": 11,
   "id": "8230ab91",
   "metadata": {},
   "outputs": [
    {
     "data": {
      "text/plain": [
       "[2, 3, 4, 5, 3, 2, 4, 5, 6]"
      ]
     },
     "execution_count": 11,
     "metadata": {},
     "output_type": "execute_result"
    }
   ],
   "source": [
    "common_items(lst1,lst2)"
   ]
  },
  {
   "cell_type": "code",
   "execution_count": 12,
   "id": "76114899",
   "metadata": {},
   "outputs": [],
   "source": [
    "def remove_duplicates(numbers):\n",
    "    unique_numbers = []\n",
    "    for num in numbers:\n",
    "        if num not in unique_numbers:\n",
    "            unique_numbers.append(num)\n",
    "    return unique_numbers"
   ]
  },
  {
   "cell_type": "code",
   "execution_count": 13,
   "id": "020d16dd",
   "metadata": {},
   "outputs": [
    {
     "name": "stdout",
     "output_type": "stream",
     "text": [
      "[1, 2, 3, 4, 5, 6, 7, 8, 9, 10, 11, 12]\n"
     ]
    }
   ],
   "source": [
    "numbers = [1,2,3,4,5,6,7,8,9,10,11,12,3,4,5,6,7,8]\n",
    "unique_number = remove_duplicates(numbers)\n",
    "print(unique_number)"
   ]
  },
  {
   "cell_type": "code",
   "execution_count": 14,
   "id": "8d62f4be",
   "metadata": {},
   "outputs": [],
   "source": [
    "def remove_duplicates(numbers):\n",
    "    unique_lst = []\n",
    "    for num in numbers:\n",
    "        if num not in unique_lst:\n",
    "            unique_lst.append(num)\n",
    "    return unique_lst"
   ]
  },
  {
   "cell_type": "code",
   "execution_count": 15,
   "id": "fb4a504a",
   "metadata": {},
   "outputs": [
    {
     "data": {
      "text/plain": [
       "[2, 3, 4, 5, 6, 7, 8, 1, 9, 55]"
      ]
     },
     "execution_count": 15,
     "metadata": {},
     "output_type": "execute_result"
    }
   ],
   "source": [
    "lst1 = [2,3,4,5,6,3,2,4,5,6,7,8,1,2,3,9,8,6,55]\n",
    "remove_duplicates(lst1)"
   ]
  },
  {
   "cell_type": "code",
   "execution_count": 17,
   "id": "5ca9faf5",
   "metadata": {},
   "outputs": [
    {
     "name": "stdout",
     "output_type": "stream",
     "text": [
      "enter the numbers:2\n",
      "enter the numbers:4\n",
      "hcf: 2\n",
      "2.0\n"
     ]
    }
   ],
   "source": [
    "a = int(input(\"enter the numbers:\"))\n",
    "b = int(input(\"enter the numbers:\"))\n",
    "while a%b!=0:\n",
    "    rem = a%b\n",
    "    a = b\n",
    "    b = rem\n",
    "hcf = b\n",
    "print(\"hcf:\",hcf)\n",
    "\n",
    "a = a/hcf\n",
    "b = b/hcf\n",
    "print(a/b)"
   ]
  },
  {
   "cell_type": "code",
   "execution_count": null,
   "id": "25b361b9",
   "metadata": {},
   "outputs": [],
   "source": []
  }
 ],
 "metadata": {
  "kernelspec": {
   "display_name": "Python 3 (ipykernel)",
   "language": "python",
   "name": "python3"
  },
  "language_info": {
   "codemirror_mode": {
    "name": "ipython",
    "version": 3
   },
   "file_extension": ".py",
   "mimetype": "text/x-python",
   "name": "python",
   "nbconvert_exporter": "python",
   "pygments_lexer": "ipython3",
   "version": "3.10.9"
  }
 },
 "nbformat": 4,
 "nbformat_minor": 5
}
